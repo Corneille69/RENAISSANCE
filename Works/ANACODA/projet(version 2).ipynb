{
  "cells": [
    {
      "cell_type": "markdown",
      "metadata": {},
      "source": [
        "\n",
        "Université : Burkina Institute of Technology\n",
        "\n",
        "Année universitaire : 2024-2025\n",
        "\n",
        "Titre du projet : A scientific computing with python\n",
        "\n",
        "Filière : CS27\n",
        "\n",
        "Membres du groupe :\n",
        "- YAMEOGO Franchine\n",
        "- YAMEOGO T. L. Angeline\n",
        "- OUEDRAOGO R-W CORNEILLE\n",
        "- OUEDRAOGO S. Landry\n",
        "- OUEDRAOGO Akram\n",
        "\n"
      ]
    },
    {
      "cell_type": "markdown",
      "metadata": {},
      "source": [
        "---\n",
        "Exercice 1\n",
        "\n",
        "Définir avec Python la fonction $f(a,b)$ et tester le résultat fourni $f(77617, 33096) = -0.8273960599$."
      ]
    },
    {
      "cell_type": "code",
      "execution_count": 1,
      "metadata": {},
      "outputs": [
        {
          "name": "stdout",
          "output_type": "stream",
          "text": [
            "La valeur de f(77617, 33096) calculée est : -1.1805916207174113e+21\n",
            "La valeur attendue était : -0.8273960599\n"
          ]
        }
      ],
      "source": [
        "def f(a, b):\n",
        "    a = float(a)\n",
        "    b = float(b)\n",
        "    terme1 = 333.75 * b**6\n",
        "    terme2 = a**2 * (11 * a**2 * b**2 - b**6 - 121 * b**4 - 2)\n",
        "    terme3 = 5.5 * b**8\n",
        "    terme4 = a / (2 * b)\n",
        "    return terme1 + terme2 + terme3 + terme4\n",
        "\n",
        "a_test = 77617\n",
        "b_test = 33096\n",
        "resultat_python = f(a_test, b_test)\n",
        "print(f\"La valeur de f({a_test}, {b_test}) calculée est : {resultat_python}\")\n",
        "print(f\"La valeur attendue était : -0.8273960599\")"
      ]
    },
    {
      "cell_type": "markdown",
      "metadata": {},
      "source": [
        "---\n",
        "Exercice 2\n",
        "\n",
        "Écrire trois fonctions indépendantes et documentées:\n",
        "1. `volume` : calcule le volume d'une boule de rayon r.\n",
        "2. `couronne` : calcule l'aire de la surface entre deux cercles de rayon r et R ($r \\le R$).\n",
        "3. `distance` : calcule la distance entre deux points dans un espace 3D."
      ]
    },
    {
      "cell_type": "code",
      "execution_count": 2,
      "metadata": {},
      "outputs": [
        {
          "name": "stdout",
          "output_type": "stream",
          "text": [
            "Volume d'une sphère de rayon 5: 523.60\n",
            "Aire d'une couronne (r=3, R=7): 125.66\n",
            "Distance entre (1,2,3) et (4,5,6): 5.20\n"
          ]
        }
      ],
      "source": [
        "from math import pi, sqrt\n",
        "\n",
        "def volume_sphere(r):\n",
        "    if r < 0:\n",
        "        return \"Erreur : Le rayon ne peut pas être négatif.\"\n",
        "    return (4/3) * pi * r**3\n",
        "\n",
        "def aire_couronne(r, R):\n",
        "    if r > R:\n",
        "        return \"Erreur: le rayon r doit être inférieur ou égal au rayon R.\"\n",
        "    return pi * (R**2 - r**2)\n",
        "\n",
        "def distance_3d(x1, y1, z1, x2, y2, z2):\n",
        "    return sqrt((x2 - x1)**2 + (y2 - y1)**2 + (z2 - z1)**2)\n",
        "\n",
        "print(f\"Volume d'une sphère de rayon 5: {volume_sphere(5):.2f}\")\n",
        "print(f\"Aire d'une couronne (r=3, R=7): {aire_couronne(3, 7):.2f}\")\n",
        "print(f\"Distance entre (1,2,3) et (4,5,6): {distance_3d(1, 2, 3, 4, 5, 6):.2f}\")"
      ]
    },
    {
      "cell_type": "markdown",
      "metadata": {},
      "source": [
        "---\n",
        "Exercice 3\n",
        "\n",
        "Comparer les résultats de la somme $\\sum_{k=1}^{2^{15}}\\frac{1}{k^{2}}$ en calculant dans un sens croissant puis décroissant."
      ]
    },
    {
      "cell_type": "code",
      "execution_count": 3,
      "metadata": {},
      "outputs": [
        {
          "name": "stdout",
          "output_type": "stream",
          "text": [
            "Pour N = 32768:\n",
            "Somme croissante  : 1.6449035497357558\n",
            "Somme décroissante: 1.644903549735758\n",
            "Commentaire : La somme en ordre décroissant est plus précise car elle minimise les erreurs d'arrondi.\n"
          ]
        }
      ],
      "source": [
        "def som_croissante(N):\n",
        "    s = 0.0\n",
        "    for k in range(1, N + 1):\n",
        "        s += 1 / k**2\n",
        "    return s\n",
        "\n",
        "def som_decroissante(N):\n",
        "    s = 0.0\n",
        "    for k in range(N, 0, -1):\n",
        "        s += 1 / k**2\n",
        "    return s\n",
        "\n",
        "N = 2**15\n",
        "valeur_croissante = som_croissante(N)\n",
        "valeur_decroissante = som_decroissante(N)\n",
        "print(f\"Pour N = {N}:\")\n",
        "print(f\"Somme croissante  : {valeur_croissante}\")\n",
        "print(f\"Somme décroissante: {valeur_decroissante}\")\n",
        "print(\"Commentaire : La somme en ordre décroissant est plus précise car elle minimise les erreurs d'arrondi.\")"
      ]
    },
    {
      "cell_type": "markdown",
      "metadata": {},
      "source": [
        "---\n",
        "Exercice 4\n",
        "On considère la suite $(v_{n})$ définie par $v_{0}=1$ et $v_{n+1}=\\frac{6}{6-v_{n}}$."
      ]
    },
    {
      "cell_type": "markdown",
      "metadata": {},
      "source": [
        "### 1. Choix de l'algorithme\n",
        "\n",
        "L'algorithme correct est le **N°3**.\n",
        "\n",
        "- **Algorithme N°1** est incorrect : il n'affiche que le terme final `v_n`, et non tous les termes de 0 à n.\n",
        "- **Algorithme N°2** est incorrect : il réinitialise `v` à 1 dans la boucle, ce qui est faux.\n",
        "- **Algorithme N°3** est correct : il initialise `v`, puis affiche le terme courant avant de calculer le suivant dans la boucle, et affiche le dernier terme après la boucle. Il affiche bien tous les termes de v_0 à v_n."
      ]
    },
    {
      "cell_type": "code",
      "execution_count": 4,
      "metadata": {},
      "outputs": [
        {
          "name": "stdout",
          "output_type": "stream",
          "text": [
            "Les termes de la suite jusqu'au rang 10 sont :\n",
            "v_0 = 1.0\n",
            "v_1 = 1.8\n",
            "v_2 = 2.142857142857143\n",
            "v_3 = 2.3333333333333335\n",
            "v_4 = 2.4545454545454546\n",
            "v_5 = 2.5384615384615383\n",
            "v_6 = 2.6\n",
            "v_7 = 2.6470588235294117\n",
            "v_8 = 2.6842105263157894\n",
            "v_9 = 2.7142857142857144\n",
            "v_10 = 2.739130434782609\n"
          ]
        }
      ],
      "source": [
        "def afficher_termes_suite(n):\n",
        "    v = 1.0\n",
        "    print(f\"Les termes de la suite jusqu'au rang {n} sont :\")\n",
        "    for i in range(n):\n",
        "        print(f\"v_{i} = {v}\")\n",
        "        if v == 6:\n",
        "            print(\"Division par zéro imminente. Arrêt du calcul.\")\n",
        "            return\n",
        "        v = 9 / (6 - v)\n",
        "    print(f\"v_{n} = {v}\")\n",
        "\n",
        "n_val = 10\n",
        "afficher_termes_suite(n_val)"
      ]
    },
    {
      "cell_type": "markdown",
      "metadata": {},
      "source": [
        "---\n",
        "Exercice 5\n",
        "Logique et fonctions pour les années bissextiles."
      ]
    },
    {
      "cell_type": "code",
      "execution_count": 5,
      "metadata": {},
      "outputs": [
        {
          "name": "stdout",
          "output_type": "stream",
          "text": [
            "--- Test pour l'année 2015 ---\n",
            "L'année 2015 n'est pas bissextile.\n",
            "--- Nombre d'années bissextiles entre 10 et 2015 (exclu) ---\n",
            "486\n",
            "--- Année pour 200 années bissextiles supplémentaires ---\n",
            "Il y aura eu 200 années bissextiles de plus à partir de la fin de l'année 2848.\n"
          ]
        }
      ],
      "source": [
        "annee_test = 2015\n",
        "print(f\"--- Test pour l'année {annee_test} ---\")\n",
        "if (annee_test % 400 == 0) or (annee_test % 4 == 0 and annee_test % 100 != 0):\n",
        "    print(f\"L'année {annee_test} est bissextile.\")\n",
        "else:\n",
        "    print(f\"L'année {annee_test} n'est pas bissextile.\")\n",
        "\n",
        "def bissextile(annee):\n",
        "    return (annee % 400 == 0) or (annee % 4 == 0 and annee % 100 != 0)\n",
        "\n",
        "compteur_bissextiles = 0\n",
        "for an in range(10, 2015):\n",
        "    if bissextile(an):\n",
        "        compteur_bissextiles += 1\n",
        "print(f\"--- Nombre d'années bissextiles entre 10 et 2015 (exclu) ---\")\n",
        "print(compteur_bissextiles)\n",
        "\n",
        "def compte_bissextiles_intervalle(debut, fin):\n",
        "    count = 0\n",
        "    for an in range(debut, fin):\n",
        "        if bissextile(an):\n",
        "            count += 1\n",
        "    return count\n",
        "\n",
        "print(\"--- Année pour 200 années bissextiles supplémentaires ---\")\n",
        "annee_actuelle = 2025\n",
        "compteur_supplementaire = 0\n",
        "annee_cible = annee_actuelle\n",
        "\n",
        "while compteur_supplementaire < 200:\n",
        "    annee_cible += 1\n",
        "    if bissextile(annee_cible):\n",
        "        compteur_supplementaire += 1\n",
        "\n",
        "print(f\"Il y aura eu 200 années bissextiles de plus à partir de la fin de l'année {annee_cible}.\")"
      ]
    },
    {
      "cell_type": "markdown",
      "metadata": {},
      "source": [
        "---\n",
        "Exercice 6\n",
        "Fonctions sur les factorielles. Le code doit être écrit en Python en respectant l'indentation."
      ]
    },
    {
      "cell_type": "code",
      "execution_count": 6,
      "metadata": {},
      "outputs": [
        {
          "name": "stdout",
          "output_type": "stream",
          "text": [
            "--- Analyse de la fonction mystere ---\n",
            "(a) mystere(4) renvoie : 33\n",
            "(b) mystere(n) effectue une somme de k-1 multiplications, soit O(n^2).\n",
            "(c) La version améliorée renvoie aussi mystere_amelioree(4) = 33 mais avec une complexité en O(n).\n"
          ]
        }
      ],
      "source": [
        "def factorielle(n):\n",
        "    if n == 0: return 1\n",
        "    res = 1\n",
        "    for i in range(1, n + 1):\n",
        "        res *= i\n",
        "    return res\n",
        "\n",
        "def seuil(M):\n",
        "    n = 0\n",
        "    while factorielle(n) <= M:\n",
        "        n += 1\n",
        "    return n\n",
        "\n",
        "def est_divisible(n):\n",
        "    return factorielle(n) % (n + 1) == 0\n",
        "\n",
        "def mystere(n):\n",
        "    s = 0\n",
        "    for k in range(1, n + 1):\n",
        "        s += factorielle(k)\n",
        "    return s\n",
        "\n",
        "print(\"--- Analyse de la fonction mystere ---\")\n",
        "print(f\"(a) mystere(4) renvoie : {mystere(4)}\")\n",
        "print(\"(b) mystere(n) effectue une somme de k-1 multiplications, soit O(n^2).\")\n",
        "\n",
        "def mystere_amelioree(n):\n",
        "    s = 0\n",
        "    fact_k = 1\n",
        "    for k in range(1, n + 1):\n",
        "        fact_k *= k\n",
        "        s += fact_k\n",
        "    return s\n",
        "\n",
        "print(f\"(c) La version améliorée renvoie aussi mystere_amelioree(4) = {mystere_amelioree(4)} mais avec une complexité en O(n).\")"
      ]
    },
    {
      "cell_type": "markdown",
      "metadata": {},
      "source": [
        "---\n",
        "Exercice 7\n",
        "Programme Python pour obtenir la trajectoire de l'électron en reproduisant la figure fournie (titre, légendes, échelles, couleurs)."
      ]
    },
    {
      "cell_type": "code",
      "execution_count": 7,
      "metadata": {},
      "outputs": [
        {
          "name": "stdout",
          "output_type": "stream",
          "text": [
            "1. Pulsation cyclotron (omega) = 1.758e+08 rad/s\n",
            "   Temps caractéristique (période T) = 3.574e-08 s\n"
          ]
        },
        {
          "data": {
            "image/png": "[encoded data removed]",
            "text/plain": [
              "<Figure size 800x600 with 1 Axes>"
            ]
          },
          "metadata": {},
          "output_type": "display_data"
        }
      ],
      "source": [
        "import numpy as np\n",
        "import matplotlib.pyplot as plt\n",
        "\n",
        "E = 1.0e3\n",
        "B = 1.0e-3\n",
        "e = 1.6e-19\n",
        "m = 9.1e-31\n",
        "\n",
        "omega = (e * B) / m\n",
        "T_period = 2 * np.pi / omega\n",
        "print(f\"1. Pulsation cyclotron (omega) = {omega:.3e} rad/s\")\n",
        "print(f\"   Temps caractéristique (période T) = {T_period:.3e} s\")\n",
        "\n",
        "C = E / (omega * B)\n",
        "\n",
        "t = np.linspace(0, 4.2 * T_period, 1000)\n",
        "\n",
        "x = C * (omega * t - np.sin(omega * t))\n",
        "y = C * (np.cos(omega * t) - 1)\n",
        "\n",
        "plt.figure(figsize=(8, 6))\n",
        "\n",
        "plt.plot(x, y, color='red')\n",
        "plt.axhline(0, color='black', linewidth=1)\n",
        "plt.axvline(0, color='black', linewidth=1)\n",
        "\n",
        "plt.title(\"trajectoire de l'électron\")\n",
        "plt.xlabel(\"x\")\n",
        "plt.ylabel(\"y\")\n",
        "plt.xlim(-0.005, 0.12)\n",
        "plt.ylim(-0.012, 0.002)\n",
        "\n",
        "plt.show()"
      ]
    },
    {
      "cell_type": "markdown",
      "metadata": {},
      "source": [
        "---\n",
        "Exercice 8\n",
        "Manipulation de la matrice A."
      ]
    },
    {
      "cell_type": "code",
      "execution_count": 8,
      "metadata": {},
      "outputs": [
        {
          "name": "stdout",
          "output_type": "stream",
          "text": [
            "Matrice A initiale :\n",
            " [[  0   1   2   3]\n",
            " [ -1   5  -8   9]\n",
            " [ -4   6 -12   3]\n",
            " [ -2   5  -7  -9]]\n",
            "\n",
            "Matrice après échange des 1ère et 2ème lignes :\n",
            " [[ -1   5  -8   9]\n",
            " [  0   1   2   3]\n",
            " [ -4   6 -12   3]\n",
            " [ -2   5  -7  -9]]\n",
            "\n",
            "Plus grand élément de la 2ème ligne : 3\n",
            "Plus grand élément en valeur absolue de la 3ème colonne : 12\n"
          ]
        }
      ],
      "source": [
        "import numpy as np\n",
        "\n",
        "# Création de la matrice A\n",
        "A = np.array([\n",
        "    [0, 1, 2, 3],\n",
        "    [-1, 5, -8, 9],\n",
        "    [-4, 6, -12, 3],\n",
        "    [-2, 5, -7, -9]\n",
        "])\n",
        "\n",
        "print(\"Matrice A initiale :\\n\", A)\n",
        "\n",
        "# 1. Échanger la première et la deuxième ligne\n",
        "A[[0, 1]] = A[[1, 0]]\n",
        "print(\"\\nMatrice après échange des 1ère et 2ème lignes :\\n\", A)\n",
        "\n",
        "# 2. Trouver :\n",
        "# a) le plus grand élément de la 2ème ligne (indice 1 après l’échange)\n",
        "max_in_second_row = np.max(A[1])\n",
        "print(\"\\nPlus grand élément de la 2ème ligne :\", max_in_second_row)\n",
        "\n",
        "# b) le plus grand élément en valeur absolue de la 3ème colonne (indice 2)\n",
        "max_abs_in_third_col = np.max(np.abs(A[:, 2]))\n",
        "print(\"Plus grand élément en valeur absolue de la 3ème colonne :\", max_abs_in_third_col)\n"
      ]
    }
  ],
  "metadata": {
    "kernelspec": {
      "display_name": "base",
      "language": "python",
      "name": "python3"
    },
    "language_info": {
      "codemirror_mode": {
        "name": "ipython",
        "version": 3
      },
      "file_extension": ".py",
      "mimetype": "text/x-python",
      "name": "python",
      "nbconvert_exporter": "python",
      "pygments_lexer": "ipython3",
      "version": "3.12.7"
    }
  },
  "nbformat": 4,
  "nbformat_minor": 4
}
